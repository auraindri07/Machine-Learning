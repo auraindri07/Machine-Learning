{
 "cells": [
  {
   "cell_type": "code",
   "execution_count": 1,
   "id": "adfe2a99",
   "metadata": {},
   "outputs": [
    {
     "name": "stdout",
     "output_type": "stream",
     "text": [
      "   IPK  Jumlah_Absensi  Waktu_Belajar_Jam  Lulus\n",
      "0  3.8               3                 10      1\n",
      "1  2.5               8                  5      0\n",
      "2  3.4               4                  7      1\n",
      "3  2.1              12                  2      0\n",
      "4  3.9               2                 12      1\n",
      "(7, 3) (1, 3) (2, 3)\n"
     ]
    }
   ],
   "source": [
    "import pandas as pd\n",
    "from sklearn.model_selection import train_test_split\n",
    "\n",
    "df = pd.read_csv(\"processed_kelulusan.csv\")\n",
    "print(df.head())\n",
    "\n",
    "X = df.drop(\"Lulus\", axis=1)\n",
    "y = df['Lulus']\n",
    "\n",
    "X_train, X_temp, y_train, y_temp = train_test_split(X, y, test_size=0.3, random_state=42)\n",
    "X_val, X_test, y_val, y_test = train_test_split(X_temp, y_temp, test_size=0.5, random_state=42)\n",
    "\n",
    "print(X_train.shape, X_val.shape, X_test.shape)"
   ]
  },
  {
   "cell_type": "code",
   "execution_count": 2,
   "id": "d0433024",
   "metadata": {},
   "outputs": [
    {
     "name": "stdout",
     "output_type": "stream",
     "text": [
      "Baseline (LogReg) F1(macro): 1.0\n",
      "              precision    recall  f1-score   support\n",
      "\n",
      "           0      1.000     1.000     1.000         1\n",
      "\n",
      "    accuracy                          1.000         1\n",
      "   macro avg      1.000     1.000     1.000         1\n",
      "weighted avg      1.000     1.000     1.000         1\n",
      "\n"
     ]
    }
   ],
   "source": [
    "import pandas as pd\n",
    "from sklearn.pipeline import Pipeline\n",
    "from sklearn.compose import ColumnTransformer\n",
    "from sklearn.preprocessing import StandardScaler\n",
    "from sklearn.impute import SimpleImputer\n",
    "from sklearn.linear_model import LogisticRegression\n",
    "from sklearn.metrics import f1_score, classification_report\n",
    "\n",
    "X_train = pd.read_csv(\"X_train.csv\")\n",
    "X_val = pd.read_csv(\"X_val.csv\")\n",
    "y_train = pd.read_csv(\"y_train.csv\").squeeze(\"columns\")\n",
    "y_val = pd.read_csv(\"y_val.csv\").squeeze(\"columns\")\n",
    "\n",
    "num_cols = X_train.select_dtypes(include=\"number\").columns\n",
    "\n",
    "pre = ColumnTransformer([\n",
    "    (\"num\", Pipeline([\n",
    "        (\"imp\", SimpleImputer(strategy=\"median\")),\n",
    "        (\"sc\", StandardScaler())\n",
    "    ]), num_cols)\n",
    "], remainder=\"drop\")\n",
    "\n",
    "logreg = LogisticRegression(max_iter=1000, class_weight=\"balanced\", random_state=42)\n",
    "\n",
    "pipe_lr = Pipeline([\n",
    "    (\"pre\", pre),\n",
    "    (\"clf\", logreg)\n",
    "])\n",
    "\n",
    "pipe_lr.fit(X_train, y_train)\n",
    "\n",
    "y_val_pred = pipe_lr.predict(X_val)\n",
    "print(\"Baseline (LogReg) F1(macro):\", f1_score(y_val, y_val_pred, average=\"macro\"))\n",
    "print(classification_report(y_val, y_val_pred, digits=3))"
   ]
  },
  {
   "cell_type": "code",
   "execution_count": 6,
   "id": "e9a58231",
   "metadata": {},
   "outputs": [
    {
     "name": "stdout",
     "output_type": "stream",
     "text": [
      "RandomForest F1(val): 1.0\n"
     ]
    }
   ],
   "source": [
    "from sklearn.ensemble import RandomForestClassifier\n",
    "\n",
    "rf = RandomForestClassifier(\n",
    "    n_estimators=300, max_features=\"sqrt\", class_weight=\"balanced\", random_state=42\n",
    ")\n",
    "pipe_rf = Pipeline([(\"pre\", pre), (\"clf\", rf)])\n",
    "\n",
    "pipe_rf.fit(X_train, y_train)\n",
    "y_val_rf = pipe_rf.predict(X_val)\n",
    "print(\"RandomForest F1(val):\", f1_score(y_val, y_val_rf, average=\"macro\"))"
   ]
  },
  {
   "cell_type": "code",
   "execution_count": 1,
   "metadata": {},
   "outputs": [
    {
     "name": "stdout",
     "output_type": "stream",
     "text": [
      "Nama Kolom Dataset: Index(['IPK', 'Jumlah_Absensi', 'Waktu_Belajar_Jam', 'Lulus'], dtype='object')\n",
      "Fitting 2 folds for each of 12 candidates, totalling 24 fits\n",
      "Best Params: {'clf__max_depth': None, 'clf__min_samples_split': 2}\n",
      "Best CV F1: 1.0\n",
      "Best RF F1 (Validation): 1.0\n"
     ]
    }
   ],
   "source": [
    "import pandas as pd\n",
    "from sklearn.model_selection import train_test_split, StratifiedKFold, GridSearchCV\n",
    "from sklearn.preprocessing import StandardScaler\n",
    "from sklearn.ensemble import RandomForestClassifier\n",
    "from sklearn.pipeline import Pipeline\n",
    "from sklearn.metrics import f1_score\n",
    "\n",
    "data = pd.read_csv(\"processed_kelulusan.csv\")\n",
    "\n",
    "print(\"Nama Kolom Dataset:\", data.columns)\n",
    "\n",
    "target_col = \"kelulusan\"  # ubah jika berbeda\n",
    "\n",
    "X = data.drop(\"Lulus\", axis=1)\n",
    "y = data['Lulus']\n",
    "\n",
    "X_train, X_val, y_train, y_val = train_test_split(\n",
    "    X, y, test_size=0.2, stratify=y, random_state=42\n",
    ")\n",
    "\n",
    "pipe_rf = Pipeline([\n",
    "    ('scaler', StandardScaler()),\n",
    "    ('clf', RandomForestClassifier(random_state=42))\n",
    "])\n",
    "\n",
    "from sklearn.model_selection import StratifiedKFold, GridSearchCV\n",
    "\n",
    "skf = StratifiedKFold(n_splits=2, shuffle=True, random_state=42)\n",
    "\n",
    "param = {\n",
    "    \"clf__max_depth\": [None, 12, 20, 30],\n",
    "    \"clf__min_samples_split\": [2, 5, 10]\n",
    "}\n",
    "\n",
    "gs = GridSearchCV(\n",
    "    pipe_rf,\n",
    "    param_grid=param,\n",
    "    cv=skf,\n",
    "    scoring=\"f1_macro\",\n",
    "    n_jobs=-1,\n",
    "    verbose=1\n",
    ")\n",
    "\n",
    "gs.fit(X_train, y_train)\n",
    "print(\"Best Params:\", gs.best_params_)\n",
    "print(\"Best CV F1:\", gs.best_score_)\n",
    "\n",
    "best_rf = gs.best_estimator_\n",
    "y_val_pred = best_rf.predict(X_val)\n",
    "f1_val = f1_score(y_val, y_val_pred, average=\"macro\")\n",
    "print(\"Best RF F1 (Validation):\", f1_val)\n"
   ]
  },
  {
   "cell_type": "code",
   "execution_count": null,
   "id": "60cb2eee",
   "metadata": {},
   "outputs": [
    {
     "name": "stdout",
     "output_type": "stream",
     "text": [
      "Kolom dataset: Index(['IPK', 'Jumlah_Absensi', 'Waktu_Belajar_Jam', 'Lulus'], dtype='object')\n",
      "WARNING: ada nilai target tak dikenal — akan diisi 0.\n",
      "Cek bentuk data sebelum split:\n",
      "X shape: (10, 3)\n",
      "y shape: (10,)\n",
      "Isi unik y: [0.]\n",
      "Cek bentuk data sebelum split:\n",
      "X shape: (10, 3)\n",
      "y shape: (10,)\n",
      "Isi unik y: [0.]\n",
      "Fitting 2 folds for each of 12 candidates, totalling 24 fits\n",
      "Best params: {'clf__max_depth': None, 'clf__min_samples_split': 2}\n",
      "Best CV F1: 1.0\n",
      "F1(test): 1.0\n",
      "Classification report:\n",
      "               precision    recall  f1-score   support\n",
      "\n",
      "         0.0       1.00      1.00      1.00         2\n",
      "\n",
      "    accuracy                           1.00         2\n",
      "   macro avg       1.00      1.00      1.00         2\n",
      "weighted avg       1.00      1.00      1.00         2\n",
      "\n",
      "Confusion matrix:\n",
      " [[2]]\n"
     ]
    }
   ],
   "source": [
    "import pandas as pd\n",
    "import warnings\n",
    "warnings.filterwarnings(\"ignore\")\n",
    "from sklearn.model_selection import train_test_split, StratifiedKFold, GridSearchCV\n",
    "from sklearn.ensemble import RandomForestClassifier\n",
    "from sklearn.pipeline import Pipeline\n",
    "from sklearn.metrics import f1_score, classification_report, confusion_matrix\n",
    "    \n",
    "data = pd.read_csv(\"processed_kelulusan.csv\")\n",
    "print(\"Kolom dataset:\", data.columns)\n",
    "\n",
    "target_col = \"Lulus\"\n",
    "X = data.drop(columns=[target_col])\n",
    "y = data[target_col]\n",
    "\n",
    "X = data.drop(columns=[\"Lulus\"])   \n",
    "y = data[\"Lulus\"]                  \n",
    "\n",
    "y = y.map({\"Lulus\": 1, \"Tidak Lulus\": 0})  \n",
    "if y.isnull().any():\n",
    "    print(\"WARNING: ada nilai target tak dikenal — akan diisi 0.\")\n",
    "    y = y.fillna(0)\n",
    "\n",
    "print(\"Cek bentuk data sebelum split:\")\n",
    "print(\"X shape:\", X.shape)\n",
    "print(\"y shape:\", y.shape)\n",
    "print(\"Isi unik y:\", y.unique())\n",
    "\n",
    "from sklearn.model_selection import train_test_split\n",
    "X_train, X_test, y_train, y_test = train_test_split(\n",
    "    X, y, test_size=0.2, random_state=42, stratify=y\n",
    ")\n",
    "\n",
    "print(\"Cek bentuk data sebelum split:\")\n",
    "print(\"X shape:\", X.shape)\n",
    "print(\"y shape:\", y.shape)\n",
    "print(\"Isi unik y:\", y.unique())\n",
    "\n",
    "from sklearn.model_selection import train_test_split\n",
    "X_train, X_test, y_train, y_test = train_test_split(\n",
    "    X, y, test_size=0.2, random_state=42, stratify=y\n",
    ")\n",
    "\n",
    "pipe_rf = Pipeline([\n",
    "    (\"clf\", RandomForestClassifier(random_state=42))\n",
    "])\n",
    "\n",
    "skf = StratifiedKFold(n_splits=2, shuffle=True, random_state=42)\n",
    "param = {\n",
    "    \"clf__max_depth\": [None, 12, 20, 30],\n",
    "    \"clf__min_samples_split\": [2, 5, 10]\n",
    "}\n",
    "\n",
    "gs = GridSearchCV(pipe_rf, param_grid=param, cv=skf,\n",
    "                  scoring=\"f1_macro\", n_jobs=-1, verbose=1)\n",
    "gs.fit(X_train, y_train)\n",
    "\n",
    "print(\"Best params:\", gs.best_params_)\n",
    "print(\"Best CV F1:\", gs.best_score_)\n",
    "\n",
    "best_rf = gs.best_estimator_\n",
    "y_test_pred = best_rf.predict(X_test)\n",
    "print(\"F1(test):\", f1_score(y_test, y_test_pred, average=\"macro\"))\n",
    "print(\"Classification report:\\n\", classification_report(y_test, y_test_pred))\n",
    "print(\"Confusion matrix:\\n\", confusion_matrix(y_test, y_test_pred))"
   ]
  },
  {
   "cell_type": "code",
   "execution_count": 6,
   "id": "2b9af34e",
   "metadata": {},
   "outputs": [
    {
     "name": "stdout",
     "output_type": "stream",
     "text": [
      "✅ Model tersimpan ke file 'model.pkl'\n"
     ]
    }
   ],
   "source": [
    "import joblib\n",
    "final_model = pipe_rf.fit(X_train, y_train)\n",
    "\n",
    "joblib.dump(final_model, \"model.pkl\")\n",
    "print(\"✅ Model tersimpan ke file 'model.pkl'\")\n"
   ]
  },
  {
   "cell_type": "code",
   "execution_count": 13,
   "id": "4df2b77c",
   "metadata": {},
   "outputs": [
    {
     "name": "stdout",
     "output_type": "stream",
     "text": [
      "d:\\machine_learning\\venv\\Scripts\\python.exe\n"
     ]
    }
   ],
   "source": [
    "import sys\n",
    "print(sys.executable)\n"
   ]
  },
  {
   "cell_type": "code",
   "execution_count": 14,
   "id": "2a3e9483",
   "metadata": {},
   "outputs": [
    {
     "name": "stdout",
     "output_type": "stream",
     "text": [
      "Collecting flask\n",
      "  Downloading flask-3.1.2-py3-none-any.whl.metadata (3.2 kB)\n",
      "Collecting blinker>=1.9.0 (from flask)\n",
      "  Downloading blinker-1.9.0-py3-none-any.whl.metadata (1.6 kB)\n",
      "Collecting click>=8.1.3 (from flask)\n",
      "  Downloading click-8.3.0-py3-none-any.whl.metadata (2.6 kB)\n",
      "Collecting itsdangerous>=2.2.0 (from flask)\n",
      "  Downloading itsdangerous-2.2.0-py3-none-any.whl.metadata (1.9 kB)\n",
      "Requirement already satisfied: jinja2>=3.1.2 in d:\\machine_learning\\venv\\lib\\site-packages (from flask) (3.1.6)\n",
      "Requirement already satisfied: markupsafe>=2.1.1 in d:\\machine_learning\\venv\\lib\\site-packages (from flask) (3.0.3)\n",
      "Collecting werkzeug>=3.1.0 (from flask)\n",
      "  Downloading werkzeug-3.1.3-py3-none-any.whl.metadata (3.7 kB)\n",
      "Requirement already satisfied: colorama in d:\\machine_learning\\venv\\lib\\site-packages (from click>=8.1.3->flask) (0.4.6)\n",
      "Downloading flask-3.1.2-py3-none-any.whl (103 kB)\n",
      "Downloading blinker-1.9.0-py3-none-any.whl (8.5 kB)\n",
      "Downloading click-8.3.0-py3-none-any.whl (107 kB)\n",
      "Downloading itsdangerous-2.2.0-py3-none-any.whl (16 kB)\n",
      "Downloading werkzeug-3.1.3-py3-none-any.whl (224 kB)\n",
      "Installing collected packages: werkzeug, itsdangerous, click, blinker, flask\n",
      "\n",
      "   ---------------------------------------- 0/5 [werkzeug]\n",
      "   ---------------------------------------- 0/5 [werkzeug]\n",
      "   ---------------- ----------------------- 2/5 [click]\n",
      "   ---------------- ----------------------- 2/5 [click]\n",
      "   -------------------------------- ------- 4/5 [flask]\n",
      "   -------------------------------- ------- 4/5 [flask]\n",
      "   ---------------------------------------- 5/5 [flask]\n",
      "\n",
      "Successfully installed blinker-1.9.0 click-8.3.0 flask-3.1.2 itsdangerous-2.2.0 werkzeug-3.1.3\n"
     ]
    }
   ],
   "source": [
    "!{sys.executable} -m pip install flask\n"
   ]
  },
  {
   "cell_type": "code",
   "execution_count": 15,
   "id": "397f0200",
   "metadata": {},
   "outputs": [
    {
     "name": "stdout",
     "output_type": "stream",
     "text": [
      "Flask berhasil diimpor! Versi: 3.1.2\n"
     ]
    }
   ],
   "source": [
    "import flask\n",
    "print(\"Flask berhasil diimpor! Versi:\", flask.__version__)\n"
   ]
  },
  {
   "cell_type": "code",
   "execution_count": null,
   "id": "ed8d740a",
   "metadata": {},
   "outputs": [
    {
     "name": "stdout",
     "output_type": "stream",
     "text": [
      "Data berhasil dimuat ✅\n",
      "   IPK  Jumlah_Absensi  Waktu_Belajar_Jam  Lulus\n",
      "0  3.8               3                 10      1\n",
      "1  2.5               8                  5      0\n",
      "2  3.4               4                  7      1\n",
      "3  2.1              12                  2      0\n",
      "4  3.9               2                 12      1\n",
      "Model dan data uji berhasil disimpan ✅\n"
     ]
    },
    {
     "data": {
      "image/png": "[encoded data removed]",
      "text/plain": [
       "<Figure size 600x500 with 1 Axes>"
      ]
     },
     "metadata": {},
     "output_type": "display_data"
    }
   ],
   "source": [
    "import numpy as np\n",
    "import pandas as pd\n",
    "import matplotlib.pyplot as plt\n",
    "from sklearn.model_selection import train_test_split\n",
    "from sklearn.ensemble import RandomForestClassifier\n",
    "from sklearn.metrics import roc_curve, auc\n",
    "import joblib\n",
    "\n",
    "data = pd.read_csv(\"kelulusan_mahasiswa.csv\") \n",
    "print(\"Data berhasil dimuat ✅\")\n",
    "print(data.head())\n",
    "\n",
    "X = data.drop(columns=[\"Lulus\"])  \n",
    "\n",
    "X_train, X_test, y_train, y_test = train_test_split(\n",
    "    X, y, test_size=0.2, random_state=42\n",
    ")\n",
    "\n",
    "np.save(\"X_test.npy\", X_test)\n",
    "np.save(\"Y_test.npy\", y_test)\n",
    "\n",
    "model = RandomForestClassifier(random_state=42)\n",
    "model.fit(X_train, y_train)\n",
    "\n",
    "joblib.dump(model, \"model.pkl\")\n",
    "print(\"Model dan data uji berhasil disimpan ✅\")\n",
    "\n",
    "y_prob = model.predict_proba(X_test)[:, 1]  \n",
    "\n",
    "fpr, tpr, _ = roc_curve(y_test, y_prob)\n",
    "roc_auc = auc(fpr, tpr)\n",
    "\n",
    "plt.figure(figsize=(6, 5))\n",
    "plt.plot(fpr, tpr, label=f\"ROC Curve (AUC = {roc_auc:.2f})\")\n",
    "plt.plot([0, 1], [0, 1], 'k--')\n",
    "plt.xlabel(\"False Positive Rate\")\n",
    "plt.ylabel(\"True Positive Rate\")\n",
    "plt.title(\"ROC Curve\")\n",
    "plt.legend()\n",
    "plt.show()"
   ]
  }
 ],
 "metadata": {
  "kernelspec": {
   "display_name": "venv",
   "language": "python",
   "name": "python3"
  },
  "language_info": {
   "codemirror_mode": {
    "name": "ipython",
    "version": 3
   },
   "file_extension": ".py",
   "mimetype": "text/x-python",
   "name": "python",
   "nbconvert_exporter": "python",
   "pygments_lexer": "ipython3",
   "version": "3.10.11"
  }
 },
 "nbformat": 4,
 "nbformat_minor": 5
}
